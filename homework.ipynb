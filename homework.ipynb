{
 "cells": [
  {
   "cell_type": "code",
   "execution_count": 2,
   "id": "61615dc8",
   "metadata": {},
   "outputs": [
    {
     "name": "stdout",
     "output_type": "stream",
     "text": [
      "Hello, World!\n"
     ]
    }
   ],
   "source": [
    "#Say \"Hello, World!\" With Python - Introduction 1/7\n",
    "if __name__ == '__main__':\n",
    "    print (\"Hello, World!\")"
   ]
  },
  {
   "cell_type": "code",
   "execution_count": 5,
   "id": "125f0f67",
   "metadata": {},
   "outputs": [
    {
     "name": "stdout",
     "output_type": "stream",
     "text": [
      "2\n",
      "Not Weird\n"
     ]
    }
   ],
   "source": [
    "#Python If-Else - Introduction 2/7\n",
    "import math\n",
    "import os\n",
    "import random\n",
    "import re\n",
    "import sys\n",
    "\n",
    "if __name__ == '__main__':\n",
    "    n = int(input().strip())\n",
    "    if(n%2 != 0):\n",
    "        print('Weird')\n",
    "    elif n >= 2 and n <= 5:\n",
    "        print('Not Weird')\n",
    "    elif n >= 6 and n <= 20:\n",
    "        print('Weird')\n",
    "    else:\n",
    "        print('Not Weird')"
   ]
  },
  {
   "cell_type": "code",
   "execution_count": 6,
   "id": "4cf7275c",
   "metadata": {},
   "outputs": [
    {
     "name": "stdout",
     "output_type": "stream",
     "text": [
      "2\n",
      "4\n",
      "6\n",
      "-2\n",
      "8\n"
     ]
    }
   ],
   "source": [
    "#Arithmetic Operators - Introduction 3/7\n",
    "import sys\n",
    "\n",
    "if __name__ == '__main__':\n",
    "    a = int(input(\"\"))\n",
    "    b = int(input(\"\"))\n",
    "    print( a+b )\n",
    "    print( a-b )\n",
    "    print( a*b )"
   ]
  },
  {
   "cell_type": "code",
   "execution_count": 7,
   "id": "b4699416",
   "metadata": {},
   "outputs": [
    {
     "name": "stdout",
     "output_type": "stream",
     "text": [
      "4\n",
      "3\n",
      "1\n",
      "1.3333333333333333\n"
     ]
    }
   ],
   "source": [
    "#Python: Division - Introduction 4/7\n",
    "if __name__ == '__main__':\n",
    "    a = int(input())\n",
    "    b = int(input())\n",
    "    print(a//b)\n",
    "    print(a/b)"
   ]
  },
  {
   "cell_type": "code",
   "execution_count": 8,
   "id": "a05dc7f9",
   "metadata": {},
   "outputs": [
    {
     "name": "stdout",
     "output_type": "stream",
     "text": [
      "3\n",
      "0\n",
      "1\n",
      "4\n"
     ]
    }
   ],
   "source": [
    "#Loops - Introduction 5/7\n",
    "if __name__ == '__main__':\n",
    "    n = int(input())\n",
    "    for i in range(n):\n",
    "        print(i*i)"
   ]
  },
  {
   "cell_type": "code",
   "execution_count": 9,
   "id": "96cbd29c",
   "metadata": {},
   "outputs": [
    {
     "name": "stdout",
     "output_type": "stream",
     "text": [
      "2000\n",
      "True\n"
     ]
    }
   ],
   "source": [
    "#Write a function - Introduction 6/7\n",
    "def is_leap(year):\n",
    "    leap = False\n",
    "    \n",
    "    if year%400 == 0: #the idea is if a year can be divided for 400 so sure is leap \n",
    "        leap = True\n",
    "    else:\n",
    "        if year%4 == 0 and (not year%100 == 0):#if a year can be divided for 4 and not for 100 is leap\n",
    "            leap = True\n",
    "        else:\n",
    "            leap = False #if a year is divided for 100 sure can't be leap\n",
    "    \n",
    "    return leap\n",
    "\n",
    "year = int(input())\n",
    "print(is_leap(year))"
   ]
  },
  {
   "cell_type": "code",
   "execution_count": null,
   "id": "49b1d543",
   "metadata": {},
   "outputs": [],
   "source": [
    "#Print Function - Introduction 7/7\n",
    "if __name__ == '__main__':\n",
    "    n = int(input())\n",
    "    for i in range(n):\n",
    "        print(i+1,  end = '') #End allows us not to wrap the text"
   ]
  },
  {
   "cell_type": "code",
   "execution_count": null,
   "id": "3b20f75a",
   "metadata": {},
   "outputs": [],
   "source": [
    "#List Comprehensions - Data types 1/6\n",
    "if __name__ == '__main__':\n",
    "    x = int(input())\n",
    "    y = int(input())\n",
    "    z = int(input())\n",
    "    n = int(input())\n",
    "    aux = [[i,j,k] for i in range(x+1) for j in range(y+1) for k in range(z+1) if i+j+k!= n] #all possibile combinations, range(variable +1) because range start from 0 to n-1 \n",
    "    print(aux)"
   ]
  },
  {
   "cell_type": "code",
   "execution_count": null,
   "id": "9eca279c",
   "metadata": {},
   "outputs": [],
   "source": [
    "#Find the Runner-Up Score! - Data types 2/6\n",
    "if __name__ == '__main__':\n",
    "    n = int(input())\n",
    "    arr = map(int, input().split())\n",
    "    arr = list(arr)\n",
    "    myList = sorted(set(arr)) #set function remove duplicates sorted\n",
    "    if len(myList) > 1:\n",
    "        print(myList[len(myList)-2])#the list started from 0, -1 you get the last element, -2 the second last element. Note that in myList there isn't repetition\n",
    "    else:\n",
    "        print(myList[len(myList)-1])"
   ]
  },
  {
   "cell_type": "code",
   "execution_count": null,
   "id": "a4b65363",
   "metadata": {},
   "outputs": [],
   "source": [
    "#Nested Lists - Data types 3/6\n",
    "if __name__ == '__main__':\n",
    "    my_list = []\n",
    "    for _ in range(int(input())):\n",
    "        name = input()\n",
    "        score = float(input())\n",
    "        my_list.append([score, name])\n",
    "        my_list.sort()\n",
    "    min = my_list[0][0]\n",
    "    for i in range(len(my_list)):\n",
    "        if min == my_list[0][0] and my_list[i][0] > min:\n",
    "            min = my_list[i][0] #upgrade the new minimum, with the second one, remember the list is sort!\n",
    "        if min == my_list[i][0] and min != my_list[0][0]:\n",
    "            print(my_list[i][1])#print all the second minimum"
   ]
  },
  {
   "cell_type": "code",
   "execution_count": null,
   "id": "c21f3bbe",
   "metadata": {},
   "outputs": [],
   "source": [
    "#Finding the percentage - Data types 4/6\n",
    "if __name__ == '__main__':\n",
    "    n = int(input())\n",
    "    student_marks = {}\n",
    "    for _ in range(n):\n",
    "        name, *line = input().split() #*line -> tuple \n",
    "        scores = list(map(float, line)) #convert the values in a float\n",
    "        student_marks[name] = scores\n",
    "    query_name = input()\n",
    "    avareg = sum(student_marks[query_name])\n",
    "    \n",
    "    print(format(avareg/float(len(student_marks[query_name])), '.2f')) #the standard avarage (values1+values2+...)/number of exam"
   ]
  },
  {
   "cell_type": "code",
   "execution_count": null,
   "id": "0f2e29ba",
   "metadata": {},
   "outputs": [],
   "source": [
    "#Lists - Data types 5/6\n",
    "if __name__ == '__main__':\n",
    "    N = int(input())\n",
    "    my_list = []\n",
    "    \n",
    "    for i in range(N):\n",
    "        aux = input().split()\n",
    "        if aux[0] == 'insert':\n",
    "            my_list.insert(int(aux[1]), int(aux[2])) #aux[1] the position, aux[2] the value\n",
    "        elif aux[0] == 'append':\n",
    "            my_list.append(int(aux[1]))\n",
    "        elif aux[0] == 'remove':\n",
    "            my_list.remove(int(aux[1]))\n",
    "        elif aux[0] == 'sort':\n",
    "            my_list.sort()\n",
    "        elif aux[0] == 'pop':\n",
    "            my_list.pop()\n",
    "        elif aux[0] == 'reverse':\n",
    "            my_list.reverse()\n",
    "        else:\n",
    "            print(my_list)"
   ]
  },
  {
   "cell_type": "code",
   "execution_count": null,
   "id": "c6dffb2f",
   "metadata": {},
   "outputs": [],
   "source": [
    "#Tuples - Data types 6/6\n",
    "if __name__ == '__main__':\n",
    "    n = int(raw_input())\n",
    "    integer_list = map(int, raw_input().split())\n",
    "    \n",
    "    print(hash(tuple(integer_list))) #the hash() method returns the hash value of an object if it has one\n"
   ]
  },
  {
   "cell_type": "code",
   "execution_count": null,
   "id": "14361ff0",
   "metadata": {},
   "outputs": [],
   "source": [
    "#sWAP cASE - Strings 1/14\n",
    "def swap_case(s):\n",
    "    return_text = \"\"\n",
    "    for i in range(len(s)):\n",
    "        if s[i].islower():\n",
    "            return_text += s[i].upper()\n",
    "        elif s[i].isupper():\n",
    "            return_text += s[i].lower()\n",
    "        else:\n",
    "            return_text += s[i] #if is a number I don't do nothing\n",
    "    return return_text\n",
    "\n",
    "if __name__ == '__main__':\n",
    "    s = input()\n",
    "    result = swap_case(s)\n",
    "    print(result)"
   ]
  },
  {
   "cell_type": "code",
   "execution_count": null,
   "id": "7584883f",
   "metadata": {},
   "outputs": [],
   "source": [
    "#String Split and Join - Strings 2/14\n",
    "def split_and_join(line):\n",
    "    line = line.split(\" \") #put space between a charapter and another\n",
    "    line = \"-\".join(line)#put - between a charapter and another instead of space\n",
    "    return line\n",
    "    \n",
    "if __name__ == '__main__':\n",
    "    line = input()\n",
    "    result = split_and_join(line)\n",
    "    print(result)"
   ]
  },
  {
   "cell_type": "code",
   "execution_count": null,
   "id": "db86e2bd",
   "metadata": {},
   "outputs": [],
   "source": [
    "#What's Your Name? - Strings 3/14\n",
    "def print_full_name(first, last):\n",
    "    print('Hello', first, last + '!','You just delved into python.')\n",
    "\n",
    "if __name__ == '__main__':\n",
    "    first_name = input()\n",
    "    last_name = input()\n",
    "    print_full_name(first_name, last_name)"
   ]
  },
  {
   "cell_type": "code",
   "execution_count": null,
   "id": "bc2ffb38",
   "metadata": {},
   "outputs": [],
   "source": [
    "#Mutations - Strings 4/14\n",
    "def mutate_string(string, position, character):\n",
    "    l = list(string) #convert string into a list\n",
    "    l[position] = character\n",
    "    string = \"\".join(l) #to return a string instead of a list\n",
    "    return string\n",
    "\n",
    "if __name__ == '__main__':\n",
    "    s = input()\n",
    "    i, c = input().split()\n",
    "    s_new = mutate_string(s, int(i), c)\n",
    "    print(s_new)"
   ]
  },
  {
   "cell_type": "code",
   "execution_count": null,
   "id": "7e585196",
   "metadata": {},
   "outputs": [],
   "source": [
    "#Find a string - Strings 5/14\n",
    "def count_substring(string, sub_string):\n",
    "    string_size = len(string)\n",
    "    substring_size = len(sub_string)\n",
    "    count = 0\n",
    "    for i in range(0,string_size-substring_size+1): #+1 to get the last element\n",
    "        if string[i:i+substring_size] == sub_string: #split the string array according the substring_size \n",
    "            count+=1\n",
    "    return count\n",
    "\n",
    "if __name__ == '__main__':\n",
    "    string = input().strip()\n",
    "    sub_string = input().strip()\n",
    "    \n",
    "    count = count_substring(string, sub_string)\n",
    "    print(count)"
   ]
  },
  {
   "cell_type": "code",
   "execution_count": null,
   "id": "ab192f2e",
   "metadata": {},
   "outputs": [],
   "source": [
    "#String Validators - Strings 6/14\n",
    "if __name__ == '__main__':\n",
    "    s = input()\n",
    "  \n",
    "    a,b,c,d,e = False,False,False,False,False\n",
    "    for i in range(len(s)):\n",
    "            if s[i].isalnum() == True:\n",
    "                a = True\n",
    " \n",
    "    for i in range(len(s)):\n",
    "            if s[i].isalpha() == True:\n",
    "                b = True\n",
    "\n",
    "    for i in range(len(s)):\n",
    "            if s[i].isdigit() == True:\n",
    "                c = True\n",
    "                \n",
    "    for i in range(len(s)):\n",
    "            if s[i].islower() == True:\n",
    "                d = True\n",
    "\n",
    "    for i in range(len(s)):\n",
    "            if s[i].isupper() == True:\n",
    "                e = True\n",
    "    print(a)\n",
    "    print(b)\n",
    "    print(c)\n",
    "    print(d)\n",
    "    print(e)"
   ]
  },
  {
   "cell_type": "code",
   "execution_count": 11,
   "id": "252ba640",
   "metadata": {},
   "outputs": [
    {
     "name": "stdout",
     "output_type": "stream",
     "text": [
      "3\n",
      "  H  \n",
      " HHH \n",
      "HHHHH\n",
      " HHH         HHH        \n",
      " HHH         HHH        \n",
      " HHH         HHH        \n",
      " HHH         HHH        \n",
      " HHHHHHHHHHHHHHH  \n",
      " HHHHHHHHHHHHHHH  \n",
      " HHH         HHH        \n",
      " HHH         HHH        \n",
      " HHH         HHH        \n",
      " HHH         HHH        \n",
      "            HHHHH \n",
      "             HHH  \n",
      "              H   \n"
     ]
    }
   ],
   "source": [
    "#Text Alignment - Strings 7/14\n",
    "\n",
    "thickness = int(input()) #This must be an odd number\n",
    "c = 'H'\n",
    "\n",
    "#Top Cone\n",
    "for i in range(thickness):\n",
    "    print((c*i).rjust(thickness-1)+c+(c*i).ljust(thickness-1)) #the first one put space in the right part and the second in the left part\n",
    "\n",
    "#Top Pillars\n",
    "for i in range(thickness+1):\n",
    "    print((c*thickness).center(thickness*2)+(c*thickness).center(thickness*6))# centered both, in that way we have a big space in the center (1/2 space from the first one, 1/2 space form the second one)\n",
    "\n",
    "#Middle Belt\n",
    "for i in range((thickness+1)//2):\n",
    "    print((c*thickness*5).center(thickness*6))#fill the entire line    \n",
    "\n",
    "#Bottom Pillars\n",
    "for i in range(thickness+1):\n",
    "    print((c*thickness).center(thickness*2)+(c*thickness).center(thickness*6))#idem as 2° case\n",
    "\n",
    "#Bottom Cone\n",
    "for i in range(thickness):\n",
    "    print(((c*(thickness-i-1)).rjust(thickness)+c+(c*(thickness-i-1)).ljust(thickness)).rjust(thickness*6))#same as the beginning"
   ]
  },
  {
   "cell_type": "code",
   "execution_count": null,
   "id": "901debb8",
   "metadata": {},
   "outputs": [],
   "source": [
    "#Text Wrap - Strings 8/14\n",
    "import textwrap\n",
    "\n",
    "def wrap(string, max_width):\n",
    "    wrapper = textwrap.wrap(string,width=max_width)#wrap a text in subtext based on a width\n",
    "    word_list = \"\\n\".join(wrapper)#put \\n instead of space\n",
    "    return word_list"
   ]
  },
  {
   "cell_type": "code",
   "execution_count": null,
   "id": "20334565",
   "metadata": {},
   "outputs": [],
   "source": [
    "#Designer Door Mat - Strings 9/14\n",
    "#the ispiration as to do this exercis, I got it from exercise 7, which is equal except in the center case \n",
    "N = input().split()\n",
    "N = int(N[0])\n",
    "for line in range(N//2):\n",
    "    print(((\".|.\")*line).rjust(((3*N)//2 - 1) ,'-') + \".|.\" +  ((\".|.\")*line ).ljust(((3*N)//2 - 1),'-'))\n",
    "print(((\"WELCOME\") ).center(3*N,'-'))\n",
    "for line in range(N//2 + 1, N):\n",
    "        print(((\".|.\")*(N-line-1)).rjust(((3*N)//2 - 1) ,'-') + \".|.\" +  ((\".|.\")*(N-line-1)).ljust(((3*N)//2 - 1),'-'))"
   ]
  },
  {
   "cell_type": "code",
   "execution_count": null,
   "id": "89562a10",
   "metadata": {},
   "outputs": [],
   "source": [
    "#String Formatting - Strings 10/14\n",
    "def print_formatted(number):\n",
    "    def print_formatted(number):\n",
    "    w = len(bin(number)[2:])#the space to put before\n",
    "    for i in range(1, number+1):\n",
    "        print(str(i).rjust(w,' '),str(oct(i)[2:].rjust(w,' ')),str(hex(i)[2:].upper().rjust(w,' ')),str(bin(i)[2:].rjust(w,' ')))\n",
    "        #oct,hex,bin convert the number in the Octal, Hexadecimal, Binary"
   ]
  },
  {
   "cell_type": "code",
   "execution_count": null,
   "id": "57f3efb8",
   "metadata": {},
   "outputs": [],
   "source": [
    "#Alphabet Rangoli - Strings 11/14\n",
    "def print_rangoli(size):\n",
    "    alphab='abcdefghijklmnopqrstuvwxyz'\n",
    "    N = size\n",
    "\n",
    "    s = alphab[size-1]\n",
    "    for line in range(1,size+1):\n",
    "        s = \"-\".join(alphab[size-line:size]) #convert the string as a-b-c-d... etc...\n",
    "        print((s[::-1]+s[1:]).center(((4*size-3)) ,'-')) #get the s invers and add all the rest, es (a-b-c-d-e)-> e-d-c-b-a + -b-c-d-e;I descovered that the pattern is 4n-3\n",
    "    for line in range(1,size):\n",
    "        s = \"-\".join(alphab[line:size]) #invers\n",
    "        print((s[::-1]+s[1:]).center(((4*size-3)) ,'-'))"
   ]
  },
  {
   "cell_type": "code",
   "execution_count": 16,
   "id": "d6055bfc",
   "metadata": {},
   "outputs": [
    {
     "name": "stdout",
     "output_type": "stream",
     "text": [
      "ciao come va?\n",
      "Ciao Come va?\n",
      "\n"
     ]
    }
   ],
   "source": [
    "#Capitalize! - Strings 12/14\n",
    "def solve(s):\n",
    "    container_name = list(s.split(' '))\n",
    "    correct_name = []\n",
    "    for i in range(len(container_name)):\n",
    "        if container_name[i].isalpha():\n",
    "            correct_name.append(container_name[i][:1].upper() + container_name[i][1:]) #capitalize the first the letter\n",
    "        else:\n",
    "            correct_name.append(container_name[i][0:]) #just add the string\n",
    "    correct_name = \" \".join(correct_name) # convert into a string\n",
    "\n",
    "    return correct_name\n",
    "    \n",
    "if __name__ == '__main__':\n",
    "\n",
    "\n",
    "    s = input()\n",
    "\n",
    "    result = solve(s)\n",
    "\n",
    "    print(solve(result) + '\\n')"
   ]
  },
  {
   "cell_type": "code",
   "execution_count": 17,
   "id": "41a321b6",
   "metadata": {},
   "outputs": [
    {
     "name": "stdout",
     "output_type": "stream",
     "text": [
      "ciao 6\n",
      "1\n",
      "c\n",
      "i\n",
      "a\n",
      "o\n",
      " \n",
      "6\n"
     ]
    }
   ],
   "source": [
    "#Merge the Tools! - Strings 13/14\n",
    "def merge_the_tools(string, k):\n",
    "    while string:\n",
    "        split = string[0:k]\n",
    "        seen = ''\n",
    "        for c in split:\n",
    "            if c not in seen:\n",
    "                seen += c\n",
    "        print(seen)\n",
    "        string = string[k:]\n",
    "        \n",
    "if __name__ == '__main__':\n",
    "    string, k = input(), int(input())\n",
    "    merge_the_tools(string, k)"
   ]
  },
  {
   "cell_type": "code",
   "execution_count": 20,
   "id": "9d6536f0",
   "metadata": {},
   "outputs": [
    {
     "name": "stdout",
     "output_type": "stream",
     "text": [
      "10\n",
      "161 182 161 154 176 170 167 171 170 174\n",
      "169.375\n"
     ]
    }
   ],
   "source": [
    "#Introduction to Sets - Sets 1/13\n",
    "def average(array):\n",
    "    mySet = set(array)\n",
    "    numerator = 0\n",
    "    for i in mySet:\n",
    "        numerator += i \n",
    "    return format(numerator/len(mySet), '.3f') #3 digits after the decimal point\n",
    "    \n",
    "\n",
    "if __name__ == '__main__':\n",
    "    n = int(input())\n",
    "    arr = list(map(int, input().split()))\n",
    "    result = average(arr)\n",
    "    print(result)"
   ]
  },
  {
   "cell_type": "code",
   "execution_count": null,
   "id": "ce34d0ae",
   "metadata": {},
   "outputs": [],
   "source": [
    "#No Idea! - Sets 2/13\n",
    "n, m = input().split()\n",
    "arr = set(map(int, input().split()))\n",
    "A = set(map(int, input().split()))\n",
    "B = set(map(int, input().split()))\n",
    "my_happiness = 0\n",
    "\n",
    "A = arr.intersection(A) #intersection arr set with A set\n",
    "for _ in A:\n",
    "    my_happiness += 1\n",
    "    \n",
    "B = arr.intersection(B) #intersection arr set with B set\n",
    "for _ in B:\n",
    "    my_happiness -= 1\n",
    "\n",
    "print(my_happiness)"
   ]
  },
  {
   "cell_type": "code",
   "execution_count": null,
   "id": "82390d2a",
   "metadata": {},
   "outputs": [],
   "source": [
    "#Symmetric Difference - Sets 3/13\n",
    "M, A = (int(input()),set((input().split(' '))))\n",
    "N, B = (int(input()),set((input().split(' '))))\n",
    "\n",
    "x = A.difference(B)\n",
    "y = B.difference(A)\n",
    "\n",
    "sort_result = x.union(y)\n",
    "print(\"\\n\".join(sorted(sort_result, key=int)))\n",
    "    "
   ]
  },
  {
   "cell_type": "code",
   "execution_count": 21,
   "id": "56cfe967",
   "metadata": {},
   "outputs": [
    {
     "name": "stdout",
     "output_type": "stream",
     "text": [
      "5\n",
      "4\n",
      "2\n",
      "2\n",
      "1\n",
      "3\n",
      "4\n"
     ]
    }
   ],
   "source": [
    "#Set .add() - Sets 4/13\n",
    "N = int(input())\n",
    "RupalCollection = set()\n",
    "for i in range(N):\n",
    "    RupalCollection.add(input())\n",
    "    \n",
    "print(len(RupalCollection))"
   ]
  },
  {
   "cell_type": "code",
   "execution_count": null,
   "id": "17d7f4d6",
   "metadata": {},
   "outputs": [],
   "source": [
    "#Set .discard(), .remove() & .pop() - Sets 5/13\n",
    "n = int(input())\n",
    "s = set(map(int, input().split()))\n",
    "N = int(input())\n",
    "\n",
    "for i in range(N):\n",
    "    new_input = input().split()\n",
    "    if new_input[0] == 'pop':\n",
    "        s.pop()\n",
    "    if new_input[0] == 'remove':\n",
    "        s.remove(int(new_input[1]))\n",
    "    if new_input[0] == 'discard':\n",
    "        s.discard(int(new_input[1]))\n",
    "    \n",
    "print(sum(s))"
   ]
  },
  {
   "cell_type": "code",
   "execution_count": null,
   "id": "6c595ba7",
   "metadata": {},
   "outputs": [],
   "source": [
    "#Set .union() Operation - Sets 6/13\n",
    "numberEng = int(input())\n",
    "A = set(map(int,input().split()))\n",
    "numberFra = int(input())\n",
    "B = set(map(int,input().split()))\n",
    "print(len((A.union(B))))"
   ]
  },
  {
   "cell_type": "code",
   "execution_count": null,
   "id": "cf3eb079",
   "metadata": {},
   "outputs": [],
   "source": [
    "#Set .intersection() Operation - Sets 7/13\n",
    "numberEng = int(input())\n",
    "A = set(map(int,input().split()))\n",
    "numberFra = int(input())\n",
    "B = set(map(int,input().split()))\n",
    "print(len((A.intersection(B))))"
   ]
  },
  {
   "cell_type": "code",
   "execution_count": null,
   "id": "dd5eb6ae",
   "metadata": {},
   "outputs": [],
   "source": [
    "#Set .difference() Operation - Sets 8/13\n",
    "numberEng = int(input())\n",
    "A = set(map(int,input().split()))\n",
    "numberFra = int(input())\n",
    "B = set(map(int,input().split()))\n",
    "print(len((A.difference(B))))"
   ]
  },
  {
   "cell_type": "code",
   "execution_count": null,
   "id": "fc0adee2",
   "metadata": {},
   "outputs": [],
   "source": [
    "#Set .symmetric_difference() Operation - Sets 9/13\n",
    "numberEng = int(input())\n",
    "A = set(map(int,input().split()))\n",
    "numberFra = int(input())\n",
    "B = set(map(int,input().split()))\n",
    "print(len((A.union(B)).difference(A.intersection(B))))"
   ]
  },
  {
   "cell_type": "code",
   "execution_count": null,
   "id": "1fdd0b7d",
   "metadata": {},
   "outputs": [],
   "source": [
    "#Set Mutations - Sets 10/13\n",
    "numberOfA = int(input())\n",
    "A = set(map(int,input().split()))\n",
    "numberOtherSet = int(input())\n",
    "for i in range(numberOtherSet):\n",
    "    new_operation = input().split()\n",
    "    new_set = set(map(int,input().split()))\n",
    "    if(new_operation[0] == 'update'):\n",
    "        A.update(new_set)\n",
    "    if(new_operation[0] == 'intersection_update'):\n",
    "        A.intersection_update(new_set)\n",
    "    if(new_operation[0] == 'symmetric_difference_update'):\n",
    "        A.symmetric_difference_update(new_set)\n",
    "    if(new_operation[0] == 'difference_update'):\n",
    "        A.difference_update(new_set)\n",
    "print(sum(A))\n"
   ]
  },
  {
   "cell_type": "code",
   "execution_count": 22,
   "id": "3084f11d",
   "metadata": {},
   "outputs": [
    {
     "name": "stdout",
     "output_type": "stream",
     "text": [
      "5\n",
      "1 2 3 6 5 4 4 2 5 3 6 1 6 5 3 2 4 1 2 5 1 4 3 6 8 4 3 1 5 6 2\n",
      "8\n"
     ]
    }
   ],
   "source": [
    "#The Captain's Room - Sets 11/13\n",
    "d=input() \n",
    "A=input().split()\n",
    "repetionSet=set() #the rooms of the others memebers\n",
    "captainSet=set()\n",
    "for i in A:\n",
    "    if  i in captainSet:\n",
    "        repetionSet.add(i)\n",
    "    else:\n",
    "        captainSet.add(i)\n",
    "print(list(captainSet.difference(repetionSet))[0]) #if I intersect them I will have the Captain's Room"
   ]
  },
  {
   "cell_type": "code",
   "execution_count": null,
   "id": "14af0d57",
   "metadata": {},
   "outputs": [],
   "source": [
    "#Check Subset - Sets 12/13\n",
    "T = int(input())\n",
    "\n",
    "for i in range(T):\n",
    "    numberA, A = int(input()),set(input().split())\n",
    "    numberB, B = int(input()),set(input().split())\n",
    "    if A.issubset(B):\n",
    "        print(True)\n",
    "    else:\n",
    "        print(False)\n",
    "    "
   ]
  },
  {
   "cell_type": "code",
   "execution_count": null,
   "id": "4bfa3a74",
   "metadata": {},
   "outputs": [],
   "source": [
    "#Check Strict Superset - Sets 13/13\n",
    "A = set(map(int, input().split()))\n",
    "N = int(input())\n",
    "for _ in range(N):\n",
    "    B = set(map(int, input().split()))\n",
    "    if len(B.intersection(A))<len(B):\n",
    "        print(\"False\")\n",
    "        exit()\n",
    "print(\"True\")"
   ]
  },
  {
   "cell_type": "code",
   "execution_count": null,
   "id": "d6b9b0fa",
   "metadata": {},
   "outputs": [],
   "source": [
    "#collections.Counter() - Collections 1/8\n",
    "from collections import Counter\n",
    "X = int(input())\n",
    "shoeSizes = Counter(map(int,input().split()))\n",
    "numberCostumers = int(input())\n",
    "total = 0\n",
    "for _ in range(numberCostumers):\n",
    "    size, price = map(int,input().split())\n",
    "    if shoeSizes[size]:\n",
    "        total += price\n",
    "        shoeSizes[size] += -1\n",
    "        \n",
    "print(total)"
   ]
  },
  {
   "cell_type": "code",
   "execution_count": null,
   "id": "bf2b1015",
   "metadata": {},
   "outputs": [],
   "source": [
    "#DefaultDict Tutorial - Collections 2/8\n",
    "from collections import defaultdict\n",
    "n,m = map(int, input().split())\n",
    "\n",
    "A = defaultdict(list)\n",
    "\n",
    "for i in range(n):\n",
    "    A[input()].append(i+1)\n",
    "\n",
    "\n",
    "for i in range(m):\n",
    "    x = input()\n",
    "    if x in A:\n",
    "        print(\" \".join(map(str,A[x]))) #if x appear in A, print how many time it appear\n",
    "    else:\n",
    "        print('-1')"
   ]
  },
  {
   "cell_type": "code",
   "execution_count": null,
   "id": "363f27cf",
   "metadata": {},
   "outputs": [],
   "source": [
    "#Collections.namedtuple() - Collections 3/8\n",
    "from collections import namedtuple\n",
    "N = int(input())\n",
    "nameColumns = input()\n",
    "total = 0\n",
    "for i in range(N):\n",
    "    register = namedtuple('register', nameColumns)\n",
    "    student = register(*input().split()) #*input().split() instead of list return just a string with all value\n",
    "    total += int(student.MARKS)\n",
    "print('{:.2f}'.format(total/N))"
   ]
  },
  {
   "cell_type": "code",
   "execution_count": null,
   "id": "970b2a86",
   "metadata": {},
   "outputs": [],
   "source": [
    "#Collections.OrderedDict() - Collections 4/8\n",
    "from collections import OrderedDict\n",
    "N = int(input())\n",
    "ordered_dictionary = OrderedDict()\n",
    "\n",
    "for i in range(N):\n",
    "    item = input().split(' ')\n",
    "    price = int(item[-1]) #get the price\n",
    "    item_name = \" \".join(item[:-1]) #get the name of the pruduct \n",
    "    if item_name not in ordered_dictionary:\n",
    "        ordered_dictionary[item_name] = price\n",
    "    else:\n",
    "        ordered_dictionary[item_name] += price\n",
    "\n",
    "for item in ordered_dictionary:\n",
    "    print(item, ordered_dictionary[item])"
   ]
  },
  {
   "cell_type": "code",
   "execution_count": null,
   "id": "cfd09531",
   "metadata": {},
   "outputs": [],
   "source": [
    "#Word Order - Collections 5/8\n",
    "from collections import OrderedDict\n",
    "dict = OrderedDict()\n",
    "\n",
    "for i in range(int(input())):\n",
    "    key = input()\n",
    "    if key not in dict.keys():\n",
    "        dict.update({key : 1})\n",
    "    else:\n",
    "        dict[key] += 1\n",
    "\n",
    "print(len(dict.keys()))\n",
    "print(*dict.values())#instead of a list print the string with all values"
   ]
  },
  {
   "cell_type": "code",
   "execution_count": null,
   "id": "46341249",
   "metadata": {},
   "outputs": [],
   "source": [
    "#Collections.deque() - Collections 6/8\n",
    "from collections import deque\n",
    "N = int(input())\n",
    "d = deque()\n",
    "for _ in range(N):\n",
    "    method, *n= input().split() #*n can have values null and when I call it doesn't return anything \n",
    "    getattr(d, method)(*n)\n",
    "\n",
    "print(*d)#instead of a list print the string with all values"
   ]
  },
  {
   "cell_type": "code",
   "execution_count": 24,
   "id": "0467a0dd",
   "metadata": {},
   "outputs": [
    {
     "name": "stdout",
     "output_type": "stream",
     "text": [
      "ciao come va\n",
      "  2\n",
      "a 2\n",
      "c 2\n"
     ]
    }
   ],
   "source": [
    "#Company Logo - Collections 7/8\n",
    "\n",
    "import math\n",
    "import os\n",
    "import random\n",
    "import re\n",
    "import sys\n",
    "from collections import Counter\n",
    "from collections import OrderedDict\n",
    "\n",
    "\n",
    "if __name__ == '__main__':\n",
    "    chars = input()\n",
    "    ordered_dictionary = OrderedDict()\n",
    "\n",
    "    for i in range(len(chars)):\n",
    "        if chars[i] not in ordered_dictionary:\n",
    "            ordered_dictionary[chars[i]] = 1\n",
    "        else:\n",
    "            ordered_dictionary[chars[i]] += +1\n",
    "\n",
    "    most_common = sorted(ordered_dictionary.items(), key=lambda x: (-x[1],x[0]))[:3]#order in base the values in 1 position if two elements are equal then it sorts based on the element in position 0 \n",
    "    for item in most_common:\n",
    "        print(item[0], item[1])\n"
   ]
  },
  {
   "cell_type": "code",
   "execution_count": null,
   "id": "6eb9f09f",
   "metadata": {},
   "outputs": [],
   "source": [
    "#Piling Up! - Collections 8/8\n",
    "from collections import deque\n",
    "\n",
    "T = int(input())\n",
    "\n",
    "for i in range(T):\n",
    "    size, n = input(), deque(map(int, input().split()))\n",
    "    ans = True\n",
    "\n",
    "    for j in range(len(n) - 1):\n",
    "        if n[0] >= n[1]:\n",
    "            n.popleft()\n",
    "        elif n[-1] >= n[-2]:\n",
    "            n.pop()\n",
    "        else:\n",
    "            ans = False\n",
    "            break\n",
    "\n",
    "    print('Yes' if ans else 'No')"
   ]
  },
  {
   "cell_type": "code",
   "execution_count": null,
   "id": "6ed5afee",
   "metadata": {},
   "outputs": [],
   "source": [
    "#Calendar Module - Data and Time 1/2\n",
    "import calendar\n",
    "month, day, year = map(int,input().split())\n",
    "print((calendar.day_name[calendar.weekday(year,month,day)]).upper())"
   ]
  },
  {
   "cell_type": "code",
   "execution_count": 26,
   "id": "91c63dc1",
   "metadata": {},
   "outputs": [
    {
     "name": "stdout",
     "output_type": "stream",
     "text": [
      "1\n",
      "Sun 10 May 2015 13:54:36 -0700\n",
      "Sun 10 May 2015 13:54:36 -0000\n",
      "25200\n",
      "\n"
     ]
    }
   ],
   "source": [
    "#Time Delta - Data and Time 2/2\n",
    "import math\n",
    "import os\n",
    "import random\n",
    "import re\n",
    "import sys\n",
    "from datetime import datetime\n",
    "\n",
    "def time_delta(t1, t2):\n",
    "    my_format= '%a %d %b %Y %H:%M:%S %z'\n",
    "    t1 = datetime.strptime(t1, my_format) \n",
    "    t2 = datetime.strptime(t2, my_format) \n",
    "    diff = (t2-t1).total_seconds()  \n",
    "    return (str(abs(int(diff))))\n",
    "\n",
    "if __name__ == '__main__':\n",
    "  \n",
    "    t = int(input())\n",
    "\n",
    "    for t_itr in range(t):\n",
    "        t1 = input()\n",
    "\n",
    "        t2 = input()\n",
    "\n",
    "        delta = time_delta(t1, t2)\n",
    "\n",
    "        print(delta + '\\n')"
   ]
  },
  {
   "cell_type": "code",
   "execution_count": null,
   "id": "7ad81a35",
   "metadata": {},
   "outputs": [],
   "source": [
    "#Exceptions 1/1\n",
    "for i in range(int(input())):\n",
    "    try:\n",
    "        a, b = map(int,input().split())\n",
    "        print(a//b)\n",
    "    except Exception as e:\n",
    "        print(\"Error Code:\",e)"
   ]
  },
  {
   "cell_type": "code",
   "execution_count": null,
   "id": "5f139041",
   "metadata": {},
   "outputs": [],
   "source": [
    "#Zipped! - Built-ins 1/3\n",
    "T, X = map(int, input().split())\n",
    "listOfScores = []\n",
    "for i in range(X):\n",
    "    listOfScores.append( map(float, input().split()) ) \n",
    "\n",
    "for i in zip(*listOfScores): #zip(*iterables)->The function takes in iterables as arguments and returns an iterator.\n",
    "    print( sum(i)/len(i) )"
   ]
  },
  {
   "cell_type": "code",
   "execution_count": 27,
   "id": "7abb631a",
   "metadata": {},
   "outputs": [
    {
     "name": "stdout",
     "output_type": "stream",
     "text": [
      "5 3\n",
      "10 2 5\n",
      "7 1 0\n",
      "9 9 9\n",
      "1 23 12\n",
      "6 5 9\n",
      "1\n",
      "7 1 0\n",
      "10 2 5\n",
      "6 5 9\n",
      "9 9 9\n",
      "1 23 12\n"
     ]
    }
   ],
   "source": [
    "#Athlete Sort - Built-ins 2/3\n",
    "\n",
    "import math\n",
    "import os\n",
    "import random\n",
    "import re\n",
    "import sys\n",
    "\n",
    "\n",
    "if __name__ == '__main__':\n",
    "    nm = input().split()\n",
    "\n",
    "    n = int(nm[0])\n",
    "\n",
    "    m = int(nm[1])\n",
    "\n",
    "    arr = []\n",
    "\n",
    "    for _ in range(n):\n",
    "        arr.append(list(map(int, input().rstrip().split())))\n",
    "\n",
    "    k = int(input())\n",
    "\n",
    "\n",
    "    for i in sorted(arr, key=lambda x: (x[k])):\n",
    "        print(*i, sep=' ')"
   ]
  },
  {
   "cell_type": "code",
   "execution_count": 28,
   "id": "ed6f99e0",
   "metadata": {},
   "outputs": [
    {
     "name": "stdout",
     "output_type": "stream",
     "text": [
      "Sorting1234\n",
      "ginortS1324\n"
     ]
    }
   ],
   "source": [
    "#ginortS - Built-ins 3/3\n",
    "S = input()\n",
    "print(\"\".join(sorted(S, key=lambda x: (x.isdigit(), x.isdigit() and int(x)%2==0, x.isupper(), x.islower(), x))))\n",
    "#in order, sort by number, odd number, upperLetter, lowerLetter and others"
   ]
  },
  {
   "cell_type": "code",
   "execution_count": null,
   "id": "36feeb20",
   "metadata": {},
   "outputs": [],
   "source": [
    "#Map and Lambda Function 1/1\n",
    "cube = lambda x: pow(x,3)\n",
    "\n",
    "def fibonacci(n):\n",
    "    my_fib = [0,1]\n",
    "    for i in range(2,n):\n",
    "         my_fib.append(my_fib[i-2] + my_fib[i-1])\n",
    "    return(my_fib[0:n])\n",
    "\n",
    "if __name__ == '__main__':\n",
    "    n = int(input())\n",
    "    print(list(map(cube, fibonacci(n))))"
   ]
  },
  {
   "cell_type": "code",
   "execution_count": 34,
   "id": "659d254f",
   "metadata": {},
   "outputs": [],
   "source": [
    "#XML 1 - Find the Score - XML 1/2\n",
    "import sys\n",
    "import xml.etree.ElementTree as etree\n",
    "\n",
    "def get_attr_number(node):\n",
    "    my_sum = 0\n",
    "    for child in node.iter():\n",
    "        my_sum += len(child.attrib)\n",
    "    return my_sum\n",
    "\n",
    "if __name__ == '__main__':\n",
    "    sys.stdin.readline()\n",
    "    xml = sys.stdin.read()\n",
    "    tree = etree.ElementTree(etree.fromstring(xml))\n",
    "    root = tree.getroot()\n",
    "    print(get_attr_number(root))"
   ]
  },
  {
   "cell_type": "code",
   "execution_count": 33,
   "id": "0d378ed1",
   "metadata": {},
   "outputs": [
    {
     "ename": "KeyboardInterrupt",
     "evalue": "Interrupted by user",
     "output_type": "error",
     "traceback": [
      "\u001b[0;31m---------------------------------------------------------------------------\u001b[0m",
      "\u001b[0;31mKeyboardInterrupt\u001b[0m                         Traceback (most recent call last)",
      "\u001b[0;32m<ipython-input-33-c36e6a3474ac>\u001b[0m in \u001b[0;36m<module>\u001b[0;34m\u001b[0m\n\u001b[1;32m     12\u001b[0m \u001b[0;34m\u001b[0m\u001b[0m\n\u001b[1;32m     13\u001b[0m \u001b[0;32mif\u001b[0m \u001b[0m__name__\u001b[0m \u001b[0;34m==\u001b[0m \u001b[0;34m'__main__'\u001b[0m\u001b[0;34m:\u001b[0m\u001b[0;34m\u001b[0m\u001b[0;34m\u001b[0m\u001b[0m\n\u001b[0;32m---> 14\u001b[0;31m     \u001b[0mn\u001b[0m \u001b[0;34m=\u001b[0m \u001b[0mint\u001b[0m\u001b[0;34m(\u001b[0m\u001b[0minput\u001b[0m\u001b[0;34m(\u001b[0m\u001b[0;34m)\u001b[0m\u001b[0;34m)\u001b[0m\u001b[0;34m\u001b[0m\u001b[0;34m\u001b[0m\u001b[0m\n\u001b[0m\u001b[1;32m     15\u001b[0m     \u001b[0mxml\u001b[0m \u001b[0;34m=\u001b[0m \u001b[0;34m\"\"\u001b[0m\u001b[0;34m\u001b[0m\u001b[0;34m\u001b[0m\u001b[0m\n\u001b[1;32m     16\u001b[0m     \u001b[0;32mfor\u001b[0m \u001b[0mi\u001b[0m \u001b[0;32min\u001b[0m \u001b[0mrange\u001b[0m\u001b[0;34m(\u001b[0m\u001b[0mn\u001b[0m\u001b[0;34m)\u001b[0m\u001b[0;34m:\u001b[0m\u001b[0;34m\u001b[0m\u001b[0;34m\u001b[0m\u001b[0m\n",
      "\u001b[0;32m~/opt/anaconda3/lib/python3.8/site-packages/ipykernel/kernelbase.py\u001b[0m in \u001b[0;36mraw_input\u001b[0;34m(self, prompt)\u001b[0m\n\u001b[1;32m    858\u001b[0m                 \u001b[0;34m\"raw_input was called, but this frontend does not support input requests.\"\u001b[0m\u001b[0;34m\u001b[0m\u001b[0;34m\u001b[0m\u001b[0m\n\u001b[1;32m    859\u001b[0m             )\n\u001b[0;32m--> 860\u001b[0;31m         return self._input_request(str(prompt),\n\u001b[0m\u001b[1;32m    861\u001b[0m             \u001b[0mself\u001b[0m\u001b[0;34m.\u001b[0m\u001b[0m_parent_ident\u001b[0m\u001b[0;34m,\u001b[0m\u001b[0;34m\u001b[0m\u001b[0;34m\u001b[0m\u001b[0m\n\u001b[1;32m    862\u001b[0m             \u001b[0mself\u001b[0m\u001b[0;34m.\u001b[0m\u001b[0m_parent_header\u001b[0m\u001b[0;34m,\u001b[0m\u001b[0;34m\u001b[0m\u001b[0;34m\u001b[0m\u001b[0m\n",
      "\u001b[0;32m~/opt/anaconda3/lib/python3.8/site-packages/ipykernel/kernelbase.py\u001b[0m in \u001b[0;36m_input_request\u001b[0;34m(self, prompt, ident, parent, password)\u001b[0m\n\u001b[1;32m    902\u001b[0m             \u001b[0;32mexcept\u001b[0m \u001b[0mKeyboardInterrupt\u001b[0m\u001b[0;34m:\u001b[0m\u001b[0;34m\u001b[0m\u001b[0;34m\u001b[0m\u001b[0m\n\u001b[1;32m    903\u001b[0m                 \u001b[0;31m# re-raise KeyboardInterrupt, to truncate traceback\u001b[0m\u001b[0;34m\u001b[0m\u001b[0;34m\u001b[0m\u001b[0;34m\u001b[0m\u001b[0m\n\u001b[0;32m--> 904\u001b[0;31m                 \u001b[0;32mraise\u001b[0m \u001b[0mKeyboardInterrupt\u001b[0m\u001b[0;34m(\u001b[0m\u001b[0;34m\"Interrupted by user\"\u001b[0m\u001b[0;34m)\u001b[0m \u001b[0;32mfrom\u001b[0m \u001b[0;32mNone\u001b[0m\u001b[0;34m\u001b[0m\u001b[0;34m\u001b[0m\u001b[0m\n\u001b[0m\u001b[1;32m    905\u001b[0m             \u001b[0;32mexcept\u001b[0m \u001b[0mException\u001b[0m \u001b[0;32mas\u001b[0m \u001b[0me\u001b[0m\u001b[0;34m:\u001b[0m\u001b[0;34m\u001b[0m\u001b[0;34m\u001b[0m\u001b[0m\n\u001b[1;32m    906\u001b[0m                 \u001b[0mself\u001b[0m\u001b[0;34m.\u001b[0m\u001b[0mlog\u001b[0m\u001b[0;34m.\u001b[0m\u001b[0mwarning\u001b[0m\u001b[0;34m(\u001b[0m\u001b[0;34m\"Invalid Message:\"\u001b[0m\u001b[0;34m,\u001b[0m \u001b[0mexc_info\u001b[0m\u001b[0;34m=\u001b[0m\u001b[0;32mTrue\u001b[0m\u001b[0;34m)\u001b[0m\u001b[0;34m\u001b[0m\u001b[0;34m\u001b[0m\u001b[0m\n",
      "\u001b[0;31mKeyboardInterrupt\u001b[0m: Interrupted by user"
     ]
    }
   ],
   "source": [
    "#XML2 - Find the Maximum Depth - XML 2/2\n",
    "import xml.etree.ElementTree as etree\n",
    "\n",
    "maxdepth = 0\n",
    "def depth(elem, level):\n",
    "    global maxdepth\n",
    "    if (level == (maxdepth)):\n",
    "        maxdepth += 1\n",
    "    for child in elem:\n",
    "        (depth(child,level+1))\n",
    "\n",
    "\n",
    "if __name__ == '__main__':\n",
    "    n = int(input())\n",
    "    xml = \"\"\n",
    "    for i in range(n):\n",
    "        xml =  xml + input() + \"\\n\"\n",
    "    tree = etree.ElementTree(etree.fromstring(xml))\n",
    "    depth(tree.getroot(), -1)\n",
    "    print(maxdepth)"
   ]
  },
  {
   "cell_type": "code",
   "execution_count": 35,
   "id": "06f72d05",
   "metadata": {},
   "outputs": [
    {
     "name": "stdout",
     "output_type": "stream",
     "text": [
      "1\n",
      "07895462130\n",
      "+91 78954 62130\n"
     ]
    }
   ],
   "source": [
    "#Standardize Mobile Number Using Decorators - Closures and Decoretions  1/2\n",
    "def wrapper(f):\n",
    "    def fun(l):\n",
    "        f([\"+91 \"+c[-10:-5]+\" \"+c[-5:] for c in l]) #put +91 ghe the digits from position -10 to -5 add e space and then add the rest of the digits\n",
    "    return fun\n",
    "\n",
    "\n",
    "@wrapper\n",
    "def sort_phone(l):\n",
    "    print(*sorted(l), sep='\\n')\n",
    "\n",
    "if __name__ == '__main__':\n",
    "    l = [input() for _ in range(int(input()))]\n",
    "    sort_phone(l) \n"
   ]
  },
  {
   "cell_type": "code",
   "execution_count": null,
   "id": "501a2e70",
   "metadata": {},
   "outputs": [],
   "source": [
    "#Decorators 2 - Name Directory - Closures and Decorations 2/2\n",
    "import operator\n",
    "\n",
    "def person_lister(f):\n",
    "    def inner(people):\n",
    "        return map(f, sorted(people, key=lambda x: int(x[2]))) #sort by age witch is in the second position of the list       \n",
    "    return inner\n",
    "\n",
    "@person_lister\n",
    "def name_format(person):\n",
    "    return (\"Mr. \" if person[3] == \"M\" else \"Ms. \") + person[0] + \" \" + person[1]\n",
    "\n",
    "if __name__ == '__main__':\n",
    "    people = [input().split() for i in range(int(input()))]\n",
    "    print(*name_format(people), sep='\\n')"
   ]
  },
  {
   "cell_type": "code",
   "execution_count": null,
   "id": "9c231334",
   "metadata": {},
   "outputs": [],
   "source": [
    "#Arrays - Numpy 1/15\n",
    "import numpy\n",
    "\n",
    "def arrays(arr):\n",
    "    arr = numpy.array(arr,float)\n",
    "    return arr[::-1]\n",
    "\n",
    "arr = input().strip().split(' ')\n",
    "result = arrays(arr)\n",
    "print(result)"
   ]
  },
  {
   "cell_type": "code",
   "execution_count": null,
   "id": "95b2e707",
   "metadata": {},
   "outputs": [],
   "source": [
    "#Shape and Reshape - Numpy 2/15\n",
    "import numpy\n",
    "arr = input().split()\n",
    "arr = numpy.array(arr,int)\n",
    "print(numpy.reshape(arr, (3,3)))"
   ]
  },
  {
   "cell_type": "code",
   "execution_count": null,
   "id": "1d004b9c",
   "metadata": {},
   "outputs": [],
   "source": [
    "#Transpose and Flatten - Numpy 3/15\n",
    "import numpy\n",
    "N, M= input().split()\n",
    "my_array = []\n",
    "for i in range(int(N)):\n",
    "     aux = input().split();\n",
    "     my_array.append(aux) #append the array\n",
    "my_array = numpy.array(my_array,int)\n",
    "print(numpy.transpose(my_array))\n",
    "print(my_array.flatten())"
   ]
  },
  {
   "cell_type": "code",
   "execution_count": 1,
   "id": "105613bb",
   "metadata": {},
   "outputs": [
    {
     "name": "stdout",
     "output_type": "stream",
     "text": [
      "4 3 2\n",
      "1 2\n",
      "1 2\n",
      "1 2\n",
      "1 2\n",
      "3 4\n",
      "3 4\n",
      "3 4\n",
      "[[1 2]\n",
      " [1 2]\n",
      " [1 2]\n",
      " [1 2]\n",
      " [3 4]\n",
      " [3 4]\n",
      " [3 4]]\n"
     ]
    }
   ],
   "source": [
    "#Concatenate - Numpy 4/15\n",
    "import numpy\n",
    "N, M, P = map(int, input().split())\n",
    "my_array1 = numpy.array([input().strip().split() for _ in range(N)],int)\n",
    "my_array2 = numpy.array([input().strip().split() for _ in range(M)],int)\n",
    "print(numpy.concatenate((my_array1, my_array2)))"
   ]
  },
  {
   "cell_type": "code",
   "execution_count": null,
   "id": "d93b3b85",
   "metadata": {},
   "outputs": [],
   "source": [
    "#Zeros and Ones - Numpy 5/15\n",
    "import numpy\n",
    "dimension = list(map(int, input().split()))\n",
    "print(numpy.zeros(dimension,dtype = int))\n",
    "print(numpy.ones(dimension,dtype = int))"
   ]
  },
  {
   "cell_type": "code",
   "execution_count": null,
   "id": "fecb4153",
   "metadata": {},
   "outputs": [],
   "source": [
    "#Eye and Identity - Numpy 6/15\n",
    "import numpy\n",
    "numpy.set_printoptions(legacy='1.13') #just to print 2 decimal \n",
    "N, M = map(int,input().split())\n",
    "print(numpy.eye(N, M, k = 0))"
   ]
  },
  {
   "cell_type": "code",
   "execution_count": null,
   "id": "3803081a",
   "metadata": {},
   "outputs": [],
   "source": [
    "#Array Mathematics - Numpy 7/15\n",
    "N, M = map(int, input().split())\n",
    "A = numpy.array([input().split() for _ in range(N)],int)\n",
    "B = numpy.array([input().split() for _ in range(N)],int)\n",
    "print(numpy.add(A, B))\n",
    "print(numpy.subtract(A, B))\n",
    "print(numpy.multiply(A, B))\n",
    "print(A//B)\n",
    "print(numpy.mod(A, B))\n",
    "print(numpy.power(A, B))  "
   ]
  },
  {
   "cell_type": "code",
   "execution_count": 2,
   "id": "7d9f4dbc",
   "metadata": {},
   "outputs": [
    {
     "name": "stdout",
     "output_type": "stream",
     "text": [
      "1.1 2.2 3.3 4.4 5.5 6.6 7.7 8.8 9.9\n",
      "[ 1.  2.  3.  4.  5.  6.  7.  8.  9.]\n",
      "[  2.   3.   4.   5.   6.   7.   8.   9.  10.]\n",
      "[  1.   2.   3.   4.   6.   7.   8.   9.  10.]\n"
     ]
    }
   ],
   "source": [
    "#Floor, Ceil and Rint - Numpy 8/15\n",
    "import numpy\n",
    "numpy.set_printoptions(legacy='1.13')\n",
    "my_array = numpy.array(input().split(),float)\n",
    "print(numpy.floor(my_array))\n",
    "print(numpy.ceil(my_array))\n",
    "print(numpy.rint(my_array))"
   ]
  },
  {
   "cell_type": "code",
   "execution_count": null,
   "id": "92df5b2b",
   "metadata": {},
   "outputs": [],
   "source": [
    "#Sum and Prod - Numpy 9/15\n",
    "import numpy\n",
    "N,M = map(int, input().split())\n",
    "my_array = numpy.array([input().split() for _ in range(N)],int)\n",
    "print(numpy.prod(numpy.sum(my_array, axis=0), axis=0)) # tool over axis 0 and then find the sum of that result."
   ]
  },
  {
   "cell_type": "code",
   "execution_count": null,
   "id": "3db7dd8e",
   "metadata": {},
   "outputs": [],
   "source": [
    "#Min and Max - Numpy 10/15\n",
    "import numpy\n",
    "N,M = map(int, input().split())\n",
    "my_array = numpy.array([input().split() for _ in range(N)],int)\n",
    "print(numpy.max(numpy.min(my_array, axis=1), axis=0))# min along axis 1 and then print the max of that result."
   ]
  },
  {
   "cell_type": "code",
   "execution_count": null,
   "id": "c02be641",
   "metadata": {},
   "outputs": [],
   "source": [
    "#Mean, Var, and Std - Numpy 11/15\n",
    "import numpy\n",
    "N,M = map(int, input().split())\n",
    "my_array = numpy.array([input().split() for _ in range(N)],int)\n",
    "print(numpy.mean(my_array, axis=1))\n",
    "print(numpy.var(my_array, axis=0))\n",
    "print(round(numpy.std(my_array, axis=None),11))"
   ]
  },
  {
   "cell_type": "code",
   "execution_count": null,
   "id": "7102f4ed",
   "metadata": {},
   "outputs": [],
   "source": [
    "#Dot and Cross - Numpy 12/15\n",
    "import numpy\n",
    "N = int(input())\n",
    "A = numpy.array([input().split() for _ in range(N)], int)\n",
    "B = numpy.array([input().split() for _ in range(N)], int)\n",
    "print(numpy.dot(A, B))"
   ]
  },
  {
   "cell_type": "code",
   "execution_count": null,
   "id": "f36cc2c6",
   "metadata": {},
   "outputs": [],
   "source": [
    "#Inner and Outer - Numpy 13/15\n",
    "import numpy\n",
    "A = numpy.array(input().split(), int)\n",
    "B = numpy.array(input().split(), int)\n",
    "print(numpy.inner(A, B))\n",
    "print(numpy.outer(A, B))"
   ]
  },
  {
   "cell_type": "code",
   "execution_count": null,
   "id": "802cdb84",
   "metadata": {},
   "outputs": [],
   "source": [
    "#Polynomials - Numpy 14/15\n",
    "import numpy\n",
    "P = list(map(float,input().split()))\n",
    "x = float(input())\n",
    "print(numpy.polyval(P,x)) #valuate x in the polinomial P"
   ]
  },
  {
   "cell_type": "code",
   "execution_count": 3,
   "id": "17a0c34e",
   "metadata": {},
   "outputs": [
    {
     "name": "stdout",
     "output_type": "stream",
     "text": [
      "2\n",
      "1.1 1.1\n",
      "1.1 1.1\n",
      "0.0\n"
     ]
    }
   ],
   "source": [
    "#Linear Algebra - Numpy 15/15\n",
    "import numpy\n",
    "numpy.set_printoptions(legacy='1.13')\n",
    "N = int(input())\n",
    "A= numpy.array([input().split() for _ in range(N)], float)\n",
    "print(numpy.linalg.det(A))"
   ]
  },
  {
   "cell_type": "code",
   "execution_count": null,
   "id": "e9b1f1db",
   "metadata": {},
   "outputs": [],
   "source": [
    "#Detect Floating Point Number - Regex and Parsing challenges 1/17\n",
    "import re\n",
    "T = int(input())\n",
    "for i in range(T):\n",
    "    print(bool(re.search(r\"^[-+]?[0-9]*\\.[0-9]+$\",input())))\n",
    "    #the input should start with a + or a -, then we can have a sequence of number\n",
    "    #\\. meaning the dot \n",
    "    #"
   ]
  },
  {
   "cell_type": "code",
   "execution_count": null,
   "id": "0dd0b3f4",
   "metadata": {},
   "outputs": [],
   "source": [
    "#Re.split() - Regex and Parsing challenges 2/17\n",
    "regex_pattern = r\"[.,]+\"\n",
    "\n",
    "import re\n",
    "print(\"\\n\".join(re.split(regex_pattern, input()))) #wrap when you find a . o ,"
   ]
  },
  {
   "cell_type": "code",
   "execution_count": null,
   "id": "ddcc79d6",
   "metadata": {},
   "outputs": [],
   "source": [
    "#Group(), Groups() & Groupdict() - Regex and Parsing challenges 3/17\n",
    "import re\n",
    "S = input().strip()\n",
    "m = re.search(r'([0-9A-Za-z])\\1', S) #find the first occurrence of an alphanumeric character in S \n",
    "#\\1 - it means the first capturing group in the matched expression\n",
    "print(m.group(1) if m else -1)\n"
   ]
  },
  {
   "cell_type": "code",
   "execution_count": null,
   "id": "2cc03a83",
   "metadata": {},
   "outputs": [],
   "source": [
    "#Validating phone numbers -  Regex and Parsing challenges 4/17\n",
    "import re\n",
    "N = int(input())\n",
    "\n",
    "for i in range(N):\n",
    "    m = re.search(r'^[7-8-9]\\d{9}$', input().strip()) #it must start with a 7, 8 or 9 and the 9 digitis d{9}\n",
    "    print(\"YES\" if m else \"NO\")"
   ]
  },
  {
   "cell_type": "code",
   "execution_count": null,
   "id": "8dd7b29e",
   "metadata": {},
   "outputs": [],
   "source": [
    "##Birthday Cake Candles\n",
    "def birthdayCakeCandles(candles):\n",
    "    candles = collections.Counter(candles) #count the candles\n",
    "    return candles[max(candles.keys())] #get the max via keys\n"
   ]
  },
  {
   "cell_type": "code",
   "execution_count": null,
   "id": "e405bc22",
   "metadata": {},
   "outputs": [],
   "source": [
    "##Number Line Jumps\n",
    "def kangaroo(x1, v1, x2, v2):\n",
    "     return 'YES' if v1>v2 and (x1-x2)%(v1-v2)==0 else 'NO' # "
   ]
  },
  {
   "cell_type": "code",
   "execution_count": null,
   "id": "9bbcd66a",
   "metadata": {},
   "outputs": [],
   "source": [
    "##Viral Advertising\n",
    "def viralAdvertising(n):\n",
    "    people = 5 #start with five people\n",
    "    like = people//2 #just the half like that\n",
    "    people = people//2*3 #shares it with 3 of their friends\n",
    "    \n",
    "    for _ in range(n-1):\n",
    "        like += people//2 #each day the people who like the advertising increasing of half\n",
    "        people = people//2*3 # and they share it with 3 of their friends \n",
    "    \n",
    "    return like"
   ]
  },
  {
   "cell_type": "code",
   "execution_count": null,
   "id": "c6206e31",
   "metadata": {},
   "outputs": [],
   "source": [
    "##Recursive Digit Sum\n",
    "\n",
    "def superDigit(n, k):\n",
    "    return auxSuperDigit(str(int(digitSum(n)))*k)#call first digitSum and the transform into an iteger, then into a string and finally * K\n",
    "\n",
    "def auxSuperDigit(n): # recursion \n",
    "    if len(n) <= 1:\n",
    "        return n\n",
    "    else:\n",
    "        return auxSuperDigit(digitSum(n))\n",
    "\n",
    "def digitSum(x):\n",
    "    return str(sum((int(i)) for i in str(x))) #sum all i into the str(x)"
   ]
  },
  {
   "cell_type": "code",
   "execution_count": null,
   "id": "e171dda2",
   "metadata": {},
   "outputs": [],
   "source": [
    "##Insertion Sort - Part 1\n",
    "def insertionSort1(n, arr):\n",
    "    for i in range(n):\n",
    "        a = arr[n-1-i]#store the value n-i\n",
    "        j = n-2-i #store the value\n",
    "        while j>=0 and arr[j]>a: #we upgrade all value from the end of the array \n",
    "            arr[j+1]=arr[j]\n",
    "            j -=1\n",
    "            print(*arr)\n",
    "        arr[j+1] = a\n",
    "    print(*arr)  "
   ]
  },
  {
   "cell_type": "code",
   "execution_count": null,
   "id": "8718556e",
   "metadata": {},
   "outputs": [],
   "source": [
    "##Insertion Sort - Part 2\n",
    "def insertionSort2(n, arr):\n",
    "    for i in range(1,n):\n",
    "        a = arr[i] #store value a to use to compare\n",
    "        j = i-1\n",
    "        while j>=0 and arr[j]>a:#we upgrade all value from the start of the array \n",
    "            arr[j+1]=arr[j]\n",
    "            j -=1\n",
    "        arr[j+1] = a\n",
    "        print(*arr) "
   ]
  }
 ],
 "metadata": {
  "kernelspec": {
   "display_name": "Python 3",
   "language": "python",
   "name": "python3"
  },
  "language_info": {
   "codemirror_mode": {
    "name": "ipython",
    "version": 3
   },
   "file_extension": ".py",
   "mimetype": "text/x-python",
   "name": "python",
   "nbconvert_exporter": "python",
   "pygments_lexer": "ipython3",
   "version": "3.8.8"
  }
 },
 "nbformat": 4,
 "nbformat_minor": 5
}
